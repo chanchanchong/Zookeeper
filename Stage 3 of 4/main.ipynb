{
 "cells": [
  {
   "cell_type": "markdown",
   "source": [
    "## Work on project. Stage 3/4: What's inside?.\n",
    "Project: [Zookeeper](https://hyperskill.org/projects/98)"
   ],
   "metadata": {
    "collapsed": false,
    "pycharm": {
     "name": "#%% md\n"
    }
   }
  },
  {
   "cell_type": "markdown",
   "source": [
    "#### 1. Description\n",
    "The third stage requires you to increase the capabilities of your software. Now it should be able to recognize the number of a specific habitat from the input and how the animals living there.\n",
    "\n",
    "Add all of the variables from the template to a single variable with the list type. The order of variable matters: they must appear on the list in the order in which they're defined in the code. The list must contain all of the variable with no duplicates."
   ],
   "metadata": {
    "collapsed": false,
    "pycharm": {
     "name": "#%% md\n"
    }
   }
  },
  {
   "cell_type": "markdown",
   "source": [
    "#### 2. Objectives\n",
    "The this stage your program should:\n",
    "1. Ask for the number of the desired habitat using the following phase: `Please enter the number of the habitat you would like to view:\n",
    "2. Use the input number as an index of your habitats to print its content.\n",
    "3. End with the following phrase:"
   ],
   "metadata": {
    "collapsed": false,
    "pycharm": {
     "name": "#%% md\n"
    }
   }
  },
  {
   "cell_type": "markdown",
   "source": [
    "---\n",
    "You've reached the end of the program. To check another habitat, please restart the watcher."
   ],
   "metadata": {
    "collapsed": false,
    "pycharm": {
     "name": "#%% md\n"
    }
   }
  },
  {
   "cell_type": "markdown",
   "source": [
    "#### 3. Example\n",
    "The greater-than symbol followed by a space (> ) represents the user input. Notice that it's not part of the input.\n",
    "\n",
    "`\n",
    "Please enter the number of the habitat you would like to view: > 5\n",
    "`\n",
    "Switching on the camera in the rabbit habitat...\n",
    "         ,\n",
    "        /|      __\n",
    "       / |   ,-~ /\n",
    "      Y :|  //  /\n",
    "      | jj /( .^\n",
    "      >-\"~\"-v\"\n",
    "     /       Y\n",
    "    jo  o    |\n",
    "   ( ~T~     j\n",
    "    >._-' _./\n",
    "   /   \"~\"  |\n",
    "  Y     _,  |\n",
    " /| ;-\"~ _  l\n",
    "/ l/ ,-\"~    \\\n",
    "\\//\\/      .- \\\n",
    " Y        /    Y\n",
    " l       I     !\n",
    " ]\\      _\\    /\"\\\n",
    "(\" ~----( ~   Y.  )\n",
    "It looks like we will soon have more rabbits!\n",
    "---\n",
    "You've reached the end of the program. To check another habitat, please restart the watcher.\n"
   ],
   "metadata": {
    "collapsed": false,
    "pycharm": {
     "name": "#%% md\n"
    }
   }
  },
  {
   "cell_type": "code",
   "execution_count": 6,
   "outputs": [
    {
     "name": "stdout",
     "output_type": "stream",
     "text": [
      "\n",
      "Switching on the camera in the rabbit habitat...\n",
      "         ,\n",
      "        /|      __\n",
      "       / |   ,-~ /\n",
      "      Y :|  //  /\n",
      "      | jj /( .^\n",
      "      >-\"~\"-v\"\n",
      "     /       Y\n",
      "    jo  o    |\n",
      "   ( ~T~     j\n",
      "    >._-' _./\n",
      "   /   \"~\"  |\n",
      "  Y     _,  |\n",
      " /| ;-\"~ _  l\n",
      "/ l/ ,-\"~    \\\n",
      "\\//\\/      .- \\\n",
      " Y        /    Y\n",
      " l       I     !\n",
      " ]\\      _\\    /\"\\\n",
      "(\" ~----( ~   Y.  )\n",
      "It looks like we will soon have more rabbits!\n",
      "---\n",
      "You've reached the end of the program. To check another habitat, please restart the watcher.\n"
     ]
    }
   ],
   "source": [
    "camel = r\"\"\"\n",
    "Switching on the camera in the camel habitat...\n",
    " ___.-''''-.\n",
    "/___  @    |\n",
    "',,,,.     |         _.'''''''._\n",
    "     '     |        /           \\\n",
    "     |     \\    _.-'             \\\n",
    "     |      '.-'                  '-.\n",
    "     |                               ',\n",
    "     |                                '',\n",
    "      ',,-,                           ':;\n",
    "           ',,| ;,,                 ,' ;;\n",
    "              ! ; !'',,,',',,,,'!  ;   ;:\n",
    "             : ;  ! !       ! ! ;  ;   :;\n",
    "             ; ;   ! !      ! !  ; ;   ;,\n",
    "            ; ;    ! !     ! !   ; ;\n",
    "            ; ;    ! !    ! !     ; ;\n",
    "           ;,,      !,!   !,!     ;,;\n",
    "           /_I      L_I   L_I     /_I\n",
    "Look at that! Our little camel is sunbathing!\"\"\"\n",
    "\n",
    "lion = r\"\"\"\n",
    "Switching on the camera in the lion habitat...\n",
    "                                               ,w.\n",
    "                                             ,YWMMw  ,M  ,\n",
    "                        _.---.._   __..---._.'MMMMMw,wMWmW,\n",
    "                   _.-\"\"        '''           YP\"WMMMMMMMMMb,\n",
    "                .-' __.'                   .'     MMMMW^WMMMM;\n",
    "    _,        .'.-'\"; `,       /`     .--\"\"      :MMM[==MWMW^;\n",
    " ,mM^\"     ,-'.'   /   ;      ;      /   ,       MMMMb_wMW\"  @\\\n",
    ",MM:.    .'.-'   .'     ;     `\\    ;     `,     MMMMMMMW `\"=./`-,\n",
    "WMMm__,-'.'     /      _.\\      F'''-+,,   ;_,_.dMMMMMMMM[,_ / `=_}\n",
    "\"^MP__.-'    ,-' _.--\"\"   `-,   ;       \\  ; ;MMMMMMMMMMW^``; __|\n",
    "           /   .'            ; ;         )  )`{  \\ `\"^W^`,   \\  :\n",
    "          /  .'             /  (       .'  /     Ww._     `.  `\"\n",
    "         /  Y,              `,  `-,=,_{   ;      MMMP`\"\"-,  `-._.-,\n",
    "        (--, )                `,_ / `) \\/\"\")      ^\"      `-, -;\"\\:\n",
    "The lion is roaring!\"\"\"\n",
    "\n",
    "deer = r\"\"\"\n",
    "Switching on the camera in the deer habitat...\n",
    "   /|       |\\\n",
    "`__\\\\       //__'\n",
    "   ||      ||\n",
    " \\__`\\     |'__/\n",
    "   `_\\\\   //_'\n",
    "   _.,:---;,._\n",
    "   \\_:     :_/\n",
    "     |@. .@|\n",
    "     |     |\n",
    "     ,\\.-./ \\\n",
    "     ;;`-'   `---__________-----.-.\n",
    "     ;;;                         \\_\\\n",
    "     ';;;                         |\n",
    "      ;    |                      ;\n",
    "       \\   \\     \\        |      /\n",
    "        \\_, \\    /        \\     |\\\n",
    "          |';|  |,,,,,,,,/ \\    \\ \\_\n",
    "          |  |  |           \\   /   |\n",
    "          \\  \\  |           |  / \\  |\n",
    "           | || |           | |   | |\n",
    "           | || |           | |   | |\n",
    "           | || |           | |   | |\n",
    "           |_||_|           |_|   |_|\n",
    "          /_//_/           /_/   /_/\n",
    "Our 'Bambi' looks hungry. Let's go to feed it!\"\"\"\n",
    "\n",
    "goose = r\"\"\"\n",
    "Switching on the camera in the goose habitat...\n",
    "\n",
    "                                    _\n",
    "                                ,-\"\" \"\".\n",
    "                              ,'  ____  `.\n",
    "                            ,'  ,'    `.  `._\n",
    "   (`.         _..--.._   ,'  ,'        \\    \\\n",
    "  (`-.\\    .-\"\"        \"\"'   /          (  d _b\n",
    " (`._  `-\"\" ,._             (            `-(   \\\n",
    " <_  `     (  <`<            \\              `-._\\\n",
    "  <`-       (__< <           :\n",
    "   (__        (_<_<          ;\n",
    "    `------------------------------------------\n",
    "The goose is staring intently at you... Maybe it's time to change the channel?\"\"\"\n",
    "\n",
    "bat = r\"\"\"\n",
    "Switching on the camera in the bat habitat...\n",
    "_________________               _________________\n",
    " ~-.              \\  |\\___/|  /              .-~\n",
    "     ~-.           \\ / o o \\ /           .-~\n",
    "        >           \\\\  W  //           <\n",
    "       /             /~---~\\             \\\n",
    "      /_            |       |            _\\\n",
    "         ~-.        |       |        .-~\n",
    "            ;        \\     /        i\n",
    "           /___      /\\   /\\      ___\\\n",
    "                ~-. /  \\_/  \\ .-~\n",
    "                   V         V\n",
    "This bat looks like it's doing fine.\"\"\"\n",
    "\n",
    "rabbit = r\"\"\"\n",
    "Switching on the camera in the rabbit habitat...\n",
    "         ,\n",
    "        /|      __\n",
    "       / |   ,-~ /\n",
    "      Y :|  //  /\n",
    "      | jj /( .^\n",
    "      >-\"~\"-v\"\n",
    "     /       Y\n",
    "    jo  o    |\n",
    "   ( ~T~     j\n",
    "    >._-' _./\n",
    "   /   \"~\"  |\n",
    "  Y     _,  |\n",
    " /| ;-\"~ _  l\n",
    "/ l/ ,-\"~    \\\n",
    "\\//\\/      .- \\\n",
    " Y        /    Y\n",
    " l       I     !\n",
    " ]\\      _\\    /\"\\\n",
    "(\" ~----( ~   Y.  )\n",
    "It looks like we will soon have more rabbits!\"\"\"\n",
    "message = \"\"\"---\n",
    "You've reached the end of the program. To check another habitat, please restart the watcher.\"\"\"\n",
    "\n",
    "# write your code here\n",
    "def program():\n",
    "    habitats = [camel, lion, deer, goose, bat, rabbit]\n",
    "    number_habitat = int(input())\n",
    "    print(habitats[number_habitat])\n",
    "    print(message)\n",
    "\n",
    "program()"
   ],
   "metadata": {
    "collapsed": false,
    "pycharm": {
     "name": "#%%\n"
    }
   }
  },
  {
   "cell_type": "code",
   "execution_count": 2,
   "outputs": [
    {
     "name": "stdout",
     "output_type": "stream",
     "text": [
      "\n",
      "string\n",
      "Hello, world!\n"
     ]
    }
   ],
   "source": [
    "print(\"\")\n",
    "print(\"string\")\n",
    "print(\"Hello, world!\")"
   ],
   "metadata": {
    "collapsed": false,
    "pycharm": {
     "name": "#%%\n"
    }
   }
  },
  {
   "cell_type": "markdown",
   "source": [],
   "metadata": {
    "collapsed": false,
    "pycharm": {
     "name": "#%% md\n"
    }
   }
  },
  {
   "cell_type": "code",
   "execution_count": 3,
   "outputs": [
    {
     "name": "stdout",
     "output_type": "stream",
     "text": [
      "a\n",
      "1234\n",
      "Bonjour, le monde!\n"
     ]
    }
   ],
   "source": [
    "print('a')\n",
    "print('1234')\n",
    "print('Bonjour, le monde!')"
   ],
   "metadata": {
    "collapsed": false,
    "pycharm": {
     "name": "#%%\n"
    }
   }
  },
  {
   "cell_type": "code",
   "execution_count": 14,
   "outputs": [
    {
     "name": "stdout",
     "output_type": "stream",
     "text": [
      "34\n"
     ]
    }
   ],
   "source": [
    "word1 = len(\"earthquake\")\n",
    "word2 = len(\"Supercalifragilisticexpialidocious\")\n",
    "\n",
    "# How many letters does the longest word contain?\n",
    "print(word1 if word1 > word2 else word2)"
   ],
   "metadata": {
    "collapsed": false,
    "pycharm": {
     "name": "#%%\n"
    }
   }
  },
  {
   "cell_type": "code",
   "execution_count": null,
   "outputs": [],
   "source": [
    "print(max(word1, word2))"
   ],
   "metadata": {
    "collapsed": false,
    "pycharm": {
     "name": "#%%\n"
    }
   }
  },
  {
   "cell_type": "markdown",
   "source": [],
   "metadata": {
    "collapsed": false,
    "pycharm": {
     "name": "#%% md\n"
    }
   }
  }
 ],
 "metadata": {
  "kernelspec": {
   "display_name": "Python 3",
   "language": "python",
   "name": "python3"
  },
  "language_info": {
   "codemirror_mode": {
    "name": "ipython",
    "version": 2
   },
   "file_extension": ".py",
   "mimetype": "text/x-python",
   "name": "python",
   "nbconvert_exporter": "python",
   "pygments_lexer": "ipython2",
   "version": "2.7.6"
  }
 },
 "nbformat": 4,
 "nbformat_minor": 0
}