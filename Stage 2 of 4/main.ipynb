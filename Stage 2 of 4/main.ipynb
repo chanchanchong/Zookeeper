{
 "cells": [
  {
   "cell_type": "markdown",
   "source": [
    "## Work on project. Stage 2/4: Show me an animal.\n",
    "Project: [Zookeeper](https://hyperskill.org/projects/98)"
   ],
   "metadata": {
    "collapsed": false,
    "pycharm": {
     "name": "#%% md\n"
    }
   }
  },
  {
   "cell_type": "markdown",
   "source": [
    "#### 1. Description\n",
    "One of the most important parts of working with animals is keeping an eye on them. We need to see the animals on the screen to know how they are doing, right? Now we are ready to print something awesome: an image of an animal!"
   ],
   "metadata": {
    "collapsed": false,
    "pycharm": {
     "name": "#%% md\n"
    }
   }
  },
  {
   "cell_type": "markdown",
   "source": [
    "#### 2. Objectives\n",
    "For the second stage, you will need to develop an animal printer. Your program should display the animal identified in the code field.\n",
    "\n",
    "Please, don't remove the `r` character at the start of the code template. It's part of the string and it's important. So, the string should start with the `r\"\"\"` sequence. This \"r\" at the beginning stands for \"raw\" and allows various characters to be used in a string without escaping. For instance, \"\\\\\"."
   ],
   "metadata": {
    "collapsed": false,
    "pycharm": {
     "name": "#%% md\n"
    }
   }
  },
  {
   "cell_type": "markdown",
   "source": [
    "#### 3. Example\n",
    "Your output should contain the following ASCII image:\n",
    "`\n",
    "Switching on the camera in the camel habitat...\n",
    " ___.-''''-.\n",
    "/___  @    |\n",
    "',,,,.     |         _.'''''''._\n",
    "     '     |        /           \\\n",
    "     |     \\    _.-'             \\\n",
    "     |      '.-'                  '-.\n",
    "     |                               ',\n",
    "     |                                '',\n",
    "      ',,-,                           ':;\n",
    "           ',,| ;,,                 ,' ;;\n",
    "              ! ; !'',,,',',,,,'!  ;   ;:\n",
    "             : ;  ! !       ! ! ;  ;   :;\n",
    "             ; ;   ! !      ! !  ; ;   ;,\n",
    "            ; ;    ! !     ! !   ; ;\n",
    "            ; ;    ! !    ! !     ; ;\n",
    "           ;,,      !,!   !,!     ;,;\n",
    "           /_I      L_I   L_I     /_I\n",
    "Look at that! Our little camel is sunbathing!\n",
    "`"
   ],
   "metadata": {
    "collapsed": false,
    "pycharm": {
     "name": "#%% md\n"
    }
   }
  },
  {
   "cell_type": "code",
   "execution_count": 2,
   "outputs": [
    {
     "name": "stdout",
     "output_type": "stream",
     "text": [
      "\n",
      "Switching on the camera in the camel habitat...\n",
      " ___.-''''-.\n",
      "/___  @    |\n",
      "',,,,.     |         _.'''''''._\n",
      "     '     |        /           \\\n",
      "     |     \\    _.-'             \\\n",
      "     |      '.-'                  '-.\n",
      "     |                               ',\n",
      "     |                                '',\n",
      "      ',,-,                           ':;\n",
      "           ',,| ;,,                 ,' ;;\n",
      "              ! ; !'',,,',',,,,'!  ;   ;:\n",
      "             : ;  ! !       ! ! ;  ;   :;\n",
      "             ; ;   ! !      ! !  ; ;   ;,\n",
      "            ; ;    ! !     ! !   ; ;\n",
      "            ; ;    ! !    ! !     ; ;\n",
      "           ;,,      !,!   !,!     ;,;\n",
      "           /_I      L_I   L_I     /_I\n",
      "Look at that! Our little camel is sunbathing!\n"
     ]
    }
   ],
   "source": [
    "CAMEL = r\"\"\"\n",
    "Switching on the camera in the camel habitat...\n",
    " ___.-''''-.\n",
    "/___  @    |\n",
    "',,,,.     |         _.'''''''._\n",
    "     '     |        /           \\\n",
    "     |     \\    _.-'             \\\n",
    "     |      '.-'                  '-.\n",
    "     |                               ',\n",
    "     |                                '',\n",
    "      ',,-,                           ':;\n",
    "           ',,| ;,,                 ,' ;;\n",
    "              ! ; !'',,,',',,,,'!  ;   ;:\n",
    "             : ;  ! !       ! ! ;  ;   :;\n",
    "             ; ;   ! !      ! !  ; ;   ;,\n",
    "            ; ;    ! !     ! !   ; ;\n",
    "            ; ;    ! !    ! !     ; ;\n",
    "           ;,,      !,!   !,!     ;,;\n",
    "           /_I      L_I   L_I     /_I\n",
    "Look at that! Our little camel is sunbathing!\"\"\"\n",
    "print(CAMEL)"
   ],
   "metadata": {
    "collapsed": false,
    "pycharm": {
     "name": "#%%\n"
    }
   }
  },
  {
   "cell_type": "code",
   "execution_count": null,
   "outputs": [],
   "source": [],
   "metadata": {
    "collapsed": false,
    "pycharm": {
     "name": "#%%\n"
    }
   }
  }
 ],
 "metadata": {
  "kernelspec": {
   "display_name": "Python 3",
   "language": "python",
   "name": "python3"
  },
  "language_info": {
   "codemirror_mode": {
    "name": "ipython",
    "version": 2
   },
   "file_extension": ".py",
   "mimetype": "text/x-python",
   "name": "python",
   "nbconvert_exporter": "python",
   "pygments_lexer": "ipython2",
   "version": "2.7.6"
  }
 },
 "nbformat": 4,
 "nbformat_minor": 0
}