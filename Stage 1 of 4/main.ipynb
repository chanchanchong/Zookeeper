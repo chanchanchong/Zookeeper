{
 "cells": [
  {
   "cell_type": "markdown",
   "source": [
    "## Work on project. Stage 1/4: Rush into print.\n",
    "Project: [Zookeeper](https://hyperskill.org/projects/98)"
   ],
   "metadata": {
    "collapsed": false,
    "pycharm": {
     "name": "#%% md\n"
    }
   }
  },
  {
   "cell_type": "markdown",
   "source": [
    "#### 1. Description\n",
    "There are many animals in the zoo, and all of them need\n",
    "care. The animals must be fled, cleaned, surrounded by their kin, and kept happy. That is a difficult task for our large zoo, so one of your employers has suggested a more convenient way to keep track of everything. She wants to be able to pull up a video feed of any animal in the zoo with the help of a program. Being able to check on each habitat would help the zookeepers take care of our furry friends more efficiently!\n",
    "\n",
    "In this project, you will create a program that helps the zookeepers check on the animals and make sure that they're doing well. You project will be able to process commands from the zookeepers and display the animals on a monitor."
   ],
   "metadata": {
    "collapsed": false,
    "pycharm": {
     "name": "#%% md\n"
    }
   }
  },
  {
   "cell_type": "markdown",
   "source": [
    "#### 2. Objectives\n",
    "to begin with, you will develop a simple printer. Your program should display the text from the output example."
   ],
   "metadata": {
    "collapsed": false,
    "pycharm": {
     "name": "#%% md\n"
    }
   }
  },
  {
   "cell_type": "markdown",
   "source": [
    "#### 3. Example\n",
    "The output:\n",
    "`\n",
    "I love animals!\n",
    "Let's check on the animals...\n",
    "The deer looks fine.\n",
    "The bat looks happy.\n",
    "The lion looks healthy.\n",
    "`"
   ],
   "metadata": {
    "collapsed": false,
    "pycharm": {
     "name": "#%% md\n"
    }
   }
  },
  {
   "cell_type": "code",
   "execution_count": 1,
   "outputs": [
    {
     "name": "stdout",
     "output_type": "stream",
     "text": [
      "\n",
      "I love animals!\n",
      "Let's check on the animals...\n",
      "The deer looks fine.\n",
      "The bat looks happy.\n",
      "The lion looks healthy.\n"
     ]
    }
   ],
   "source": [
    "string = \"\"\"\n",
    "I love animals!\n",
    "Let's check on the animals...\n",
    "The deer looks fine.\n",
    "The bat looks happy.\n",
    "The lion looks healthy.\"\"\"\n",
    "print(string)"
   ],
   "metadata": {
    "collapsed": false,
    "pycharm": {
     "name": "#%%\n"
    }
   }
  },
  {
   "cell_type": "code",
   "execution_count": null,
   "outputs": [],
   "source": [],
   "metadata": {
    "collapsed": false,
    "pycharm": {
     "name": "#%%\n"
    }
   }
  }
 ],
 "metadata": {
  "kernelspec": {
   "display_name": "Python 3",
   "language": "python",
   "name": "python3"
  },
  "language_info": {
   "codemirror_mode": {
    "name": "ipython",
    "version": 2
   },
   "file_extension": ".py",
   "mimetype": "text/x-python",
   "name": "python",
   "nbconvert_exporter": "python",
   "pygments_lexer": "ipython2",
   "version": "2.7.6"
  }
 },
 "nbformat": 4,
 "nbformat_minor": 0
}